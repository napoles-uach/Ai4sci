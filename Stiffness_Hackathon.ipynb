{
  "nbformat": 4,
  "nbformat_minor": 0,
  "metadata": {
    "colab": {
      "name": "Stiffness_Hackathon.ipynb",
      "provenance": [],
      "collapsed_sections": [],
      "authorship_tag": "ABX9TyOmPt/jaDFdnU42wIMm5i7A",
      "include_colab_link": true
    },
    "kernelspec": {
      "name": "python3",
      "display_name": "Python 3"
    },
    "language_info": {
      "name": "python"
    },
    "accelerator": "GPU"
  },
  "cells": [
    {
      "cell_type": "markdown",
      "metadata": {
        "id": "view-in-github",
        "colab_type": "text"
      },
      "source": [
        "<a href=\"https://colab.research.google.com/github/napoles-uach/Ai4sci/blob/main/Stiffness_Hackathon.ipynb\" target=\"_parent\"><img src=\"https://colab.research.google.com/assets/colab-badge.svg\" alt=\"Open In Colab\"/></a>"
      ]
    },
    {
      "cell_type": "code",
      "source": [
        "!pip install --pre deepchem"
      ],
      "metadata": {
        "id": "aNO_WZ2nLtLx"
      },
      "execution_count": null,
      "outputs": []
    },
    {
      "cell_type": "code",
      "source": [
        "!pip3 install dgl-cu100"
      ],
      "metadata": {
        "id": "OjQgk77EL0OJ"
      },
      "execution_count": null,
      "outputs": []
    },
    {
      "cell_type": "code",
      "execution_count": null,
      "metadata": {
        "id": "WkwmflAwEa0s"
      },
      "outputs": [],
      "source": [
        "pip install pymatgen"
      ]
    },
    {
      "cell_type": "code",
      "source": [
        "import deepchem as dc"
      ],
      "metadata": {
        "id": "3xISz8_UL9Ar"
      },
      "execution_count": 4,
      "outputs": []
    },
    {
      "cell_type": "code",
      "source": [
        "import os\n",
        "os.environ['DEEPCHEM_DATA_DIR'] = os.getcwd()"
      ],
      "metadata": {
        "id": "AvyBCff5L_cr"
      },
      "execution_count": 5,
      "outputs": []
    },
    {
      "cell_type": "code",
      "source": [
        "from pymatgen.ext.matproj import MPRester"
      ],
      "metadata": {
        "id": "VsW_PrsiEfUb"
      },
      "execution_count": 6,
      "outputs": []
    },
    {
      "cell_type": "code",
      "source": [
        "mpr = MPRester(\"GVKAlZWLJyoftCu7f\")\n",
        "data2 = mpr.query({'elasticity': {'$exists': True}}, ['material_id', 'elasticity'])"
      ],
      "metadata": {
        "colab": {
          "base_uri": "https://localhost:8080/"
        },
        "id": "rrgN3jL-EsvA",
        "outputId": "db58fe8c-6260-4b27-ca8c-b1455ee1b85f"
      },
      "execution_count": 7,
      "outputs": [
        {
          "output_type": "stream",
          "name": "stderr",
          "text": [
            "100%|██████████| 13172/13172 [00:14<00:00, 897.19it/s]\n"
          ]
        }
      ]
    },
    {
      "cell_type": "code",
      "source": [
        "mat_id=[] # columna con id\n",
        "for i in range(len(data2)):#['material_id']\n",
        "  mat_id.append(data2[i]['material_id'])"
      ],
      "metadata": {
        "id": "Zo-V1EXrGhZy"
      },
      "execution_count": 8,
      "outputs": []
    },
    {
      "cell_type": "code",
      "source": [
        "def mat2vec(vec):\n",
        "  i = -1\n",
        "  stiff_vec = []\n",
        "  for row in vec:\n",
        "    i=i+1\n",
        "    stiff_vec+=row[i:]\n",
        "  return stiff_vec"
      ],
      "metadata": {
        "id": "42QwMDDxIh-W"
      },
      "execution_count": 10,
      "outputs": []
    },
    {
      "cell_type": "code",
      "source": [
        "import numpy as np"
      ],
      "metadata": {
        "id": "HripxK5nK3yN"
      },
      "execution_count": 11,
      "outputs": []
    },
    {
      "cell_type": "code",
      "source": [
        "stiff_list = []\n",
        "struc_list = []\n",
        "for mat in data2:\n",
        "  stiffness = mat['elasticity']['elastic_tensor']\n",
        "  #id = [mat['material_id']]\n",
        "  stiff_list.append(mat2vec(stiffness))\n",
        "  id=mat['material_id']\n",
        "  structure = mpr.get_structure_by_material_id(id)\n",
        "  struc_list.append(structure)"
      ],
      "metadata": {
        "id": "nGXUwOXAImiC"
      },
      "execution_count": 37,
      "outputs": []
    },
    {
      "cell_type": "code",
      "source": [
        "X = struc_list\n",
        "y = stiff_list\n",
        "#dataset = dc.data.NumpyDataset(X, y)"
      ],
      "metadata": {
        "id": "sfBW9Ns7Iw30"
      },
      "execution_count": 38,
      "outputs": []
    },
    {
      "cell_type": "code",
      "source": [
        "featurizer = dc.feat.CGCNNFeaturizer()\n",
        "ecfp = featurizer.featurize(struc_list)\n",
        "ecfp.shape\n",
        "#(5, 1024)\n",
        "dataset = dc.data.NumpyDataset(X=ecfp, y=np.array(stiff_list))\n",
        "len(dataset)"
      ],
      "metadata": {
        "colab": {
          "base_uri": "https://localhost:8080/"
        },
        "id": "U3gnP_fNNiia",
        "outputId": "0f6ccde9-92ce-4940-f810-9000239833c0"
      },
      "execution_count": 39,
      "outputs": [
        {
          "output_type": "execute_result",
          "data": {
            "text/plain": [
              "13172"
            ]
          },
          "metadata": {},
          "execution_count": 39
        }
      ]
    },
    {
      "cell_type": "code",
      "source": [
        "dataset"
      ],
      "metadata": {
        "colab": {
          "base_uri": "https://localhost:8080/"
        },
        "id": "86JQGw8OTlav",
        "outputId": "72fdc422-06d1-4b63-9b06-75686cec1780"
      },
      "execution_count": 40,
      "outputs": [
        {
          "output_type": "execute_result",
          "data": {
            "text/plain": [
              "<NumpyDataset X.shape: (13172,), y.shape: (13172, 21), w.shape: (13172, 1), task_names: [ 0  1  2 ... 18 19 20]>"
            ]
          },
          "metadata": {},
          "execution_count": 40
        }
      ]
    },
    {
      "cell_type": "code",
      "source": [
        "splitter = dc.splits.RandomSplitter()\n",
        "train_dataset, valid_dataset, test_dataset = splitter.train_valid_test_split(dataset=dataset, frac_train=0.6, frac_valid=0.2, frac_test=0.2)"
      ],
      "metadata": {
        "id": "yGSC2XR1YXLg"
      },
      "execution_count": 41,
      "outputs": []
    },
    {
      "cell_type": "code",
      "source": [
        "model = dc.models.CGCNNModel(mode='regression', batch_size=32, learning_rate=0.001,n_tasks=21)\n",
        "#model.fit(train_dataset)\n",
        "model.fit(train_dataset, nb_epoch=50)\n",
        "#model.fit()"
      ],
      "metadata": {
        "colab": {
          "base_uri": "https://localhost:8080/"
        },
        "id": "ECYSZPvjQNNU",
        "outputId": "e332420e-f5ad-4965-c1d9-77432b6aebec"
      },
      "execution_count": 42,
      "outputs": [
        {
          "output_type": "execute_result",
          "data": {
            "text/plain": [
              "4732.2165625"
            ]
          },
          "metadata": {},
          "execution_count": 42
        }
      ]
    },
    {
      "cell_type": "code",
      "source": [
        "dc.metrics.mean_absolute_error"
      ],
      "metadata": {
        "colab": {
          "base_uri": "https://localhost:8080/"
        },
        "id": "mSSO1KU5mVrZ",
        "outputId": "71288be4-060c-4844-8991-4fa4fcb9b118"
      },
      "execution_count": 43,
      "outputs": [
        {
          "output_type": "execute_result",
          "data": {
            "text/plain": [
              "<function sklearn.metrics._regression.mean_absolute_error>"
            ]
          },
          "metadata": {},
          "execution_count": 43
        }
      ]
    },
    {
      "cell_type": "code",
      "source": [
        "metric = dc.metrics.Metric(dc.metrics.mean_absolute_error)#(dc.metrics.mean_squared_error)\n",
        "print(\"Training set score:\", model.evaluate(train_dataset, [metric]))"
      ],
      "metadata": {
        "colab": {
          "base_uri": "https://localhost:8080/"
        },
        "id": "An5JuD3Xan5s",
        "outputId": "f4620aa1-50c7-41c2-9c44-0706d02b5338"
      },
      "execution_count": 44,
      "outputs": [
        {
          "output_type": "stream",
          "name": "stdout",
          "text": [
            "Training set score: {'mean_absolute_error': 14.452059789545615}\n"
          ]
        }
      ]
    },
    {
      "cell_type": "code",
      "source": [
        "out=model.predict(valid_dataset)"
      ],
      "metadata": {
        "id": "RCqTYiWOaqVO"
      },
      "execution_count": 45,
      "outputs": []
    },
    {
      "cell_type": "code",
      "source": [
        "tru=valid_dataset"
      ],
      "metadata": {
        "id": "FxQi0ZGNbFe6"
      },
      "execution_count": 46,
      "outputs": []
    },
    {
      "cell_type": "code",
      "source": [
        "k=0\n",
        "out_p=[]\n",
        "for i in out:\n",
        "  out_p.append(i[k])\n",
        "\n",
        "out_v=[]\n",
        "for i in tru.y:\n",
        "  out_v.append(i[k])\n",
        "\n",
        "plt.scatter(out_p,out_v)\n",
        "plt.plot(out_p,out_p,ls='-',c='r')"
      ],
      "metadata": {
        "colab": {
          "base_uri": "https://localhost:8080/",
          "height": 283
        },
        "id": "ab3u5XFTdW2O",
        "outputId": "2d14ac63-0570-4240-c179-5ef116ecd79c"
      },
      "execution_count": 66,
      "outputs": [
        {
          "output_type": "execute_result",
          "data": {
            "text/plain": [
              "[<matplotlib.lines.Line2D at 0x7fb17d7d71d0>]"
            ]
          },
          "metadata": {},
          "execution_count": 66
        },
        {
          "output_type": "display_data",
          "data": {
            "text/plain": [
              "<Figure size 432x288 with 1 Axes>"
            ],
            "image/png": "[encoded data removed]"
          },
          "metadata": {
            "needs_background": "light"
          }
        }
      ]
    },
    {
      "cell_type": "code",
      "source": [
        "import matplotlib.pyplot as plt\n"
      ],
      "metadata": {
        "id": "75Qh6xCsbIqp"
      },
      "execution_count": 47,
      "outputs": []
    },
    {
      "cell_type": "code",
      "source": [
        "ind = np.arange(21)\n",
        "width=0.35\n",
        "i=698\n",
        "fig, ax = plt.subplots()\n",
        "b1 = ax.bar(ind, out[i])\n",
        "b2 = ax.bar(ind+width, tru.y[i])\n",
        "\n",
        "#ax.set_xticks(ind+width/2)\n",
        "plt.show()\n"
      ],
      "metadata": {
        "colab": {
          "base_uri": "https://localhost:8080/",
          "height": 265
        },
        "id": "xK8mkEWvdKl2",
        "outputId": "e3da5008-dc70-49a3-816e-d1733132cd1c"
      },
      "execution_count": 75,
      "outputs": [
        {
          "output_type": "display_data",
          "data": {
            "text/plain": [
              "<Figure size 432x288 with 1 Axes>"
            ],
            "image/png": "[encoded data removed]"
          },
          "metadata": {
            "needs_background": "light"
          }
        }
      ]
    },
    {
      "cell_type": "code",
      "source": [
        "import seaborn as sns"
      ],
      "metadata": {
        "id": "8uqoKdKemetY"
      },
      "execution_count": 53,
      "outputs": []
    },
    {
      "cell_type": "code",
      "source": [
        "fig, axs = plt.subplots(ncols=2,figsize=(20,5))\n",
        "sns.heatmap(tru.y[:100],ax=axs[0],)\n",
        "sns.heatmap(out[:100],ax=axs[1],)"
      ],
      "metadata": {
        "colab": {
          "base_uri": "https://localhost:8080/",
          "height": 335
        },
        "id": "8imkGiWBo_JB",
        "outputId": "8505f17a-6795-4b30-c3f4-93f6c1847c9a"
      },
      "execution_count": 61,
      "outputs": [
        {
          "output_type": "execute_result",
          "data": {
            "text/plain": [
              "<matplotlib.axes._subplots.AxesSubplot at 0x7fb17dbe6150>"
            ]
          },
          "metadata": {},
          "execution_count": 61
        },
        {
          "output_type": "display_data",
          "data": {
            "text/plain": [
              "<Figure size 1440x360 with 4 Axes>"
            ],
            "image/png": "[encoded data removed]"
          },
          "metadata": {
            "needs_background": "light"
          }
        }
      ]
    },
    {
      "cell_type": "code",
      "source": [
        ""
      ],
      "metadata": {
        "id": "X2XDgbJimcrU"
      },
      "execution_count": null,
      "outputs": []
    }
  ]
}