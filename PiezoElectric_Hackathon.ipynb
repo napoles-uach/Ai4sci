{
  "nbformat": 4,
  "nbformat_minor": 0,
  "metadata": {
    "colab": {
      "name": "PiezoElectric_Hackathon.ipynb",
      "provenance": [],
      "collapsed_sections": [],
      "authorship_tag": "ABX9TyPmQCpQIM+vQfvzSOPtt5mt",
      "include_colab_link": true
    },
    "kernelspec": {
      "name": "python3",
      "display_name": "Python 3"
    },
    "language_info": {
      "name": "python"
    },
    "accelerator": "GPU"
  },
  "cells": [
    {
      "cell_type": "markdown",
      "metadata": {
        "id": "view-in-github",
        "colab_type": "text"
      },
      "source": [
        "<a href=\"https://colab.research.google.com/github/napoles-uach/Ai4sci/blob/main/PiezoElectric_Hackathon.ipynb\" target=\"_parent\"><img src=\"https://colab.research.google.com/assets/colab-badge.svg\" alt=\"Open In Colab\"/></a>"
      ]
    },
    {
      "cell_type": "code",
      "source": [
        "!pip install --pre deepchem"
      ],
      "metadata": {
        "id": "aNO_WZ2nLtLx"
      },
      "execution_count": null,
      "outputs": []
    },
    {
      "cell_type": "code",
      "source": [
        "!pip3 install dgl-cu100"
      ],
      "metadata": {
        "id": "OjQgk77EL0OJ"
      },
      "execution_count": null,
      "outputs": []
    },
    {
      "cell_type": "code",
      "execution_count": null,
      "metadata": {
        "id": "WkwmflAwEa0s"
      },
      "outputs": [],
      "source": [
        "pip install pymatgen"
      ]
    },
    {
      "cell_type": "code",
      "source": [
        "import deepchem as dc"
      ],
      "metadata": {
        "id": "3xISz8_UL9Ar"
      },
      "execution_count": 1,
      "outputs": []
    },
    {
      "cell_type": "code",
      "source": [
        "import os\n",
        "os.environ['DEEPCHEM_DATA_DIR'] = os.getcwd()"
      ],
      "metadata": {
        "id": "AvyBCff5L_cr"
      },
      "execution_count": 2,
      "outputs": []
    },
    {
      "cell_type": "code",
      "source": [
        "from pymatgen.ext.matproj import MPRester"
      ],
      "metadata": {
        "id": "VsW_PrsiEfUb"
      },
      "execution_count": 3,
      "outputs": []
    },
    {
      "cell_type": "code",
      "source": [
        "#mpr = MPRester(\"GVKAlZWLJyoftCu7f\")\n",
        "#data2 = mpr.query({'elasticity': {'$exists': True}}, ['material_id', 'elasticity'])\n",
        "mpr = MPRester(\"GVKAlZWLJyoftCu7f\")\n",
        "data2 = mpr.query({'piezo': {'$exists': True}}, ['material_id', 'piezo'])"
      ],
      "metadata": {
        "colab": {
          "base_uri": "https://localhost:8080/"
        },
        "id": "rrgN3jL-EsvA",
        "outputId": "f7fa5836-72f7-463c-e0b6-13c3568df592"
      },
      "execution_count": 4,
      "outputs": [
        {
          "output_type": "stream",
          "name": "stderr",
          "text": [
            "100%|██████████| 3399/3399 [00:01<00:00, 1728.72it/s]\n"
          ]
        }
      ]
    },
    {
      "cell_type": "code",
      "source": [
        "m1=data2[0]['piezo']['piezoelectric_tensor']"
      ],
      "metadata": {
        "id": "u2bKVp9AAccX"
      },
      "execution_count": 5,
      "outputs": []
    },
    {
      "cell_type": "code",
      "source": [
        "def mat2vec(mat):\n",
        "  vec = []\n",
        "  for row in mat:\n",
        "    vec = vec + row\n",
        "  return vec"
      ],
      "metadata": {
        "id": "42QwMDDxIh-W"
      },
      "execution_count": 6,
      "outputs": []
    },
    {
      "cell_type": "code",
      "source": [
        "import numpy as np"
      ],
      "metadata": {
        "id": "HripxK5nK3yN"
      },
      "execution_count": 7,
      "outputs": []
    },
    {
      "cell_type": "code",
      "source": [
        "stiff_list = []\n",
        "struc_list = []\n",
        "for mat in data2[:1000]:\n",
        "  stiffness = mat['piezo']['piezoelectric_tensor']\n",
        "  #id = [mat['material_id']]\n",
        "  stiff_list.append(mat2vec(stiffness))\n",
        "  id=mat['material_id']\n",
        "  structure = mpr.get_structure_by_material_id(id)\n",
        "  struc_list.append(structure)"
      ],
      "metadata": {
        "id": "nGXUwOXAImiC"
      },
      "execution_count": 24,
      "outputs": []
    },
    {
      "cell_type": "code",
      "source": [
        "X = struc_list\n",
        "y = stiff_list\n",
        "#dataset = dc.data.NumpyDataset(X, y)"
      ],
      "metadata": {
        "id": "sfBW9Ns7Iw30"
      },
      "execution_count": 25,
      "outputs": []
    },
    {
      "cell_type": "code",
      "source": [
        "featurizer = dc.feat.CGCNNFeaturizer()\n",
        "ecfp = featurizer.featurize(struc_list)\n",
        "ecfp.shape\n",
        "#(5, 1024)\n",
        "dataset = dc.data.NumpyDataset(X=ecfp, y=np.array(stiff_list))\n",
        "len(dataset)"
      ],
      "metadata": {
        "colab": {
          "base_uri": "https://localhost:8080/"
        },
        "id": "U3gnP_fNNiia",
        "outputId": "7ea83892-e7ef-461b-c2f4-3c0f6c5eaa9e"
      },
      "execution_count": 75,
      "outputs": [
        {
          "output_type": "execute_result",
          "data": {
            "text/plain": [
              "1000"
            ]
          },
          "metadata": {},
          "execution_count": 75
        }
      ]
    },
    {
      "cell_type": "code",
      "source": [
        "dataset"
      ],
      "metadata": {
        "colab": {
          "base_uri": "https://localhost:8080/"
        },
        "id": "86JQGw8OTlav",
        "outputId": "09f96609-2c9d-4fe8-e00b-beb53cd2ae48"
      },
      "execution_count": 76,
      "outputs": [
        {
          "output_type": "execute_result",
          "data": {
            "text/plain": [
              "<NumpyDataset X.shape: (1000,), y.shape: (1000, 18), w.shape: (1000, 1), task_names: [ 0  1  2 ... 15 16 17]>"
            ]
          },
          "metadata": {},
          "execution_count": 76
        }
      ]
    },
    {
      "cell_type": "code",
      "source": [
        "splitter = dc.splits.RandomSplitter()\n",
        "train_dataset, valid_dataset, test_dataset = splitter.train_valid_test_split(dataset=dataset, frac_train=0.6, frac_valid=0.2, frac_test=0.2)"
      ],
      "metadata": {
        "id": "yGSC2XR1YXLg"
      },
      "execution_count": 77,
      "outputs": []
    },
    {
      "cell_type": "code",
      "source": [
        "model = dc.models.CGCNNModel(mode='regression', batch_size=32, learning_rate=0.001,n_tasks=18)\n",
        "#model.fit(train_dataset)\n",
        "model.fit(train_dataset, nb_epoch=50,)\n",
        "#model.fit()"
      ],
      "metadata": {
        "colab": {
          "base_uri": "https://localhost:8080/"
        },
        "id": "ECYSZPvjQNNU",
        "outputId": "81307678-d554-49e0-afd8-73e2273af1c4"
      },
      "execution_count": 85,
      "outputs": [
        {
          "output_type": "execute_result",
          "data": {
            "text/plain": [
              "0.5346453857421875"
            ]
          },
          "metadata": {},
          "execution_count": 85
        }
      ]
    },
    {
      "cell_type": "code",
      "source": [
        "dc.metrics.mean_absolute_error"
      ],
      "metadata": {
        "id": "mSSO1KU5mVrZ",
        "colab": {
          "base_uri": "https://localhost:8080/"
        },
        "outputId": "499da6f1-a5ce-4ba5-86b1-f3a56b2e1f18"
      },
      "execution_count": 86,
      "outputs": [
        {
          "output_type": "execute_result",
          "data": {
            "text/plain": [
              "<function sklearn.metrics._regression.mean_absolute_error>"
            ]
          },
          "metadata": {},
          "execution_count": 86
        }
      ]
    },
    {
      "cell_type": "code",
      "source": [
        "metric = dc.metrics.Metric(dc.metrics.mean_absolute_error)#(dc.metrics.mean_squared_error)\n",
        "print(\"Training set score:\", model.evaluate(train_dataset, [metric]))"
      ],
      "metadata": {
        "colab": {
          "base_uri": "https://localhost:8080/"
        },
        "id": "An5JuD3Xan5s",
        "outputId": "3b7b015c-af09-463d-8cab-ab68a93afca1"
      },
      "execution_count": 87,
      "outputs": [
        {
          "output_type": "stream",
          "name": "stdout",
          "text": [
            "Training set score: {'mean_absolute_error': 0.2640553247794142}\n"
          ]
        }
      ]
    },
    {
      "cell_type": "code",
      "source": [
        "out=model.predict(valid_dataset)"
      ],
      "metadata": {
        "id": "RCqTYiWOaqVO"
      },
      "execution_count": 81,
      "outputs": []
    },
    {
      "cell_type": "code",
      "source": [
        "out[3]"
      ],
      "metadata": {
        "id": "v_VBDTBsa-Dm",
        "colab": {
          "base_uri": "https://localhost:8080/"
        },
        "outputId": "4f3d8b19-87e3-4017-ba2d-78e6264bbe5c"
      },
      "execution_count": 88,
      "outputs": [
        {
          "output_type": "execute_result",
          "data": {
            "text/plain": [
              "array([-0.25247476, -0.48004305,  0.0795521 ,  0.49180374,  0.1786225 ,\n",
              "       -1.116992  , -0.70188075,  0.6650546 , -0.5097517 , -0.32084715,\n",
              "        0.4344903 ,  0.23232909,  0.00202659, -0.2483889 , -0.4283599 ,\n",
              "        0.01086485,  0.15594947, -0.6998137 ], dtype=float32)"
            ]
          },
          "metadata": {},
          "execution_count": 88
        }
      ]
    },
    {
      "cell_type": "code",
      "source": [
        "tru=valid_dataset"
      ],
      "metadata": {
        "id": "FxQi0ZGNbFe6"
      },
      "execution_count": 89,
      "outputs": []
    },
    {
      "cell_type": "code",
      "source": [
        "tru.y[3]"
      ],
      "metadata": {
        "id": "yy2Nz1vIcdA3",
        "colab": {
          "base_uri": "https://localhost:8080/"
        },
        "outputId": "a0d435a7-b415-4147-8cd2-30b8cbb22e21"
      },
      "execution_count": 90,
      "outputs": [
        {
          "output_type": "execute_result",
          "data": {
            "text/plain": [
              "array([ 0.     ,  0.     ,  0.     ,  0.     , -0.09173,  0.     ,\n",
              "        0.     ,  0.     ,  0.     ,  1.48617,  0.     ,  0.     ,\n",
              "       -0.00455,  0.41373,  0.2939 ,  0.     ,  0.     ,  0.     ])"
            ]
          },
          "metadata": {},
          "execution_count": 90
        }
      ]
    },
    {
      "cell_type": "code",
      "source": [
        "import matplotlib.pyplot as plt\n"
      ],
      "metadata": {
        "id": "75Qh6xCsbIqp"
      },
      "execution_count": 91,
      "outputs": []
    },
    {
      "cell_type": "code",
      "source": [
        "import seaborn as sns"
      ],
      "metadata": {
        "id": "8imkGiWBo_JB"
      },
      "execution_count": 92,
      "outputs": []
    },
    {
      "cell_type": "code",
      "source": [
        "fig, axs = plt.subplots(ncols=2,figsize=(20,5))\n",
        "sns.heatmap(tru.y[:100],ax=axs[0])\n",
        "sns.heatmap(out[:100],ax=axs[1])"
      ],
      "metadata": {
        "colab": {
          "base_uri": "https://localhost:8080/",
          "height": 337
        },
        "id": "D8igVL9NGI4H",
        "outputId": "1d013ec5-cdbb-4ea1-b408-740ab864bb49"
      },
      "execution_count": 95,
      "outputs": [
        {
          "output_type": "execute_result",
          "data": {
            "text/plain": [
              "<matplotlib.axes._subplots.AxesSubplot at 0x7faa21789990>"
            ]
          },
          "metadata": {},
          "execution_count": 95
        },
        {
          "output_type": "display_data",
          "data": {
            "text/plain": [
              "<Figure size 1440x360 with 4 Axes>"
            ],
            "image/png": "[encoded data removed]"
          },
          "metadata": {
            "needs_background": "light"
          }
        }
      ]
    }
  ]
}