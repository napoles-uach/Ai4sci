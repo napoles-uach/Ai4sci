{
  "nbformat": 4,
  "nbformat_minor": 0,
  "metadata": {
    "colab": {
      "name": "Stiffness_Hackathon_RandomForest.ipynb",
      "provenance": [],
      "authorship_tag": "ABX9TyN1fcGeY0OyFbVpeGzz3Ain",
      "include_colab_link": true
    },
    "kernelspec": {
      "name": "python3",
      "display_name": "Python 3"
    },
    "language_info": {
      "name": "python"
    }
  },
  "cells": [
    {
      "cell_type": "markdown",
      "metadata": {
        "id": "view-in-github",
        "colab_type": "text"
      },
      "source": [
        "<a href=\"https://colab.research.google.com/github/napoles-uach/Ai4sci/blob/main/Stiffness_Hackathon_RandomForest.ipynb\" target=\"_parent\"><img src=\"https://colab.research.google.com/assets/colab-badge.svg\" alt=\"Open In Colab\"/></a>"
      ]
    },
    {
      "cell_type": "code",
      "execution_count": null,
      "metadata": {
        "id": "8-GTk8Fbpgqm"
      },
      "outputs": [],
      "source": [
        "!pip install --pre deepchem"
      ]
    },
    {
      "cell_type": "code",
      "source": [
        "!pip install pymatgen~=2020.12\n",
        "!pip install matminer==0.6.5\n",
        "!pip install dgl"
      ],
      "metadata": {
        "id": "VVYVxcywplu-"
      },
      "execution_count": null,
      "outputs": []
    },
    {
      "cell_type": "code",
      "source": [
        "import deepchem as dc\n",
        "dc.__version__"
      ],
      "metadata": {
        "id": "CrBqoOwRpqa2"
      },
      "execution_count": null,
      "outputs": []
    },
    {
      "cell_type": "code",
      "source": [
        "import pymatgen as mg\n",
        "\n",
        "import os\n",
        "os.environ['DEEPCHEM_DATA_DIR'] = os.getcwd()"
      ],
      "metadata": {
        "id": "-ZcNP-E_p25Z"
      },
      "execution_count": 4,
      "outputs": []
    },
    {
      "cell_type": "code",
      "source": [
        "from pymatgen.ext.matproj import MPRester"
      ],
      "metadata": {
        "id": "EvDGJsECqAao"
      },
      "execution_count": 6,
      "outputs": []
    },
    {
      "cell_type": "code",
      "source": [
        "import numpy as np"
      ],
      "metadata": {
        "id": "qduMPoWxqfh7"
      },
      "execution_count": 15,
      "outputs": []
    },
    {
      "cell_type": "code",
      "source": [
        "mpr = MPRester(\"GVKAlZWLJyoftCu7f\")\n",
        "data2 = mpr.query({'elasticity': {'$exists': True}}, ['material_id', 'elasticity'])"
      ],
      "metadata": {
        "colab": {
          "base_uri": "https://localhost:8080/"
        },
        "id": "VxccQ0cPqJPx",
        "outputId": "b6965554-e84e-4faf-8eda-ca2ba3446cbd"
      },
      "execution_count": 7,
      "outputs": [
        {
          "output_type": "stream",
          "name": "stderr",
          "text": [
            "100%|██████████| 13172/13172 [00:17<00:00, 770.90it/s]\n"
          ]
        }
      ]
    },
    {
      "cell_type": "code",
      "source": [
        "def mat2vec(vec):\n",
        "  i = -1\n",
        "  stiff_vec = []\n",
        "  for row in vec:\n",
        "    i=i+1\n",
        "    stiff_vec+=row[i:]\n",
        "  return stiff_vec"
      ],
      "metadata": {
        "id": "jDI0S74CqYO0"
      },
      "execution_count": 14,
      "outputs": []
    },
    {
      "cell_type": "code",
      "source": [
        "stiff_list = []\n",
        "struc_list = []\n",
        "for mat in data2:\n",
        "  stiffness = mat['elasticity']['elastic_tensor']\n",
        "  #id = [mat['material_id']]\n",
        "  stiff_list.append(mat2vec(stiffness))\n",
        "  id=mat['material_id']\n",
        "  form=mpr.get_data(id)[0]['full_formula']\n",
        "  comp = mg.core.Composition(form)\n",
        "  #structure = mpr.get_structure_by_material_id(id)\n",
        "  struc_list.append(comp)"
      ],
      "metadata": {
        "id": "ZVO3iZGurG3j"
      },
      "execution_count": 20,
      "outputs": []
    },
    {
      "cell_type": "code",
      "source": [
        "X = struc_list\n",
        "y = stiff_list"
      ],
      "metadata": {
        "id": "1GVw_-XRsAnW"
      },
      "execution_count": 21,
      "outputs": []
    },
    {
      "cell_type": "code",
      "source": [
        "featurizer = dc.feat.ElementPropertyFingerprint()\n",
        "ecfp = featurizer.featurize(struc_list)\n",
        "ecfp.shape\n",
        "#(5, 1024)\n",
        "dataset = dc.data.NumpyDataset(X=ecfp, y=np.array(stiff_list))\n",
        "len(dataset)"
      ],
      "metadata": {
        "colab": {
          "base_uri": "https://localhost:8080/"
        },
        "id": "KOQKxZLesKNa",
        "outputId": "a8391dfb-9593-495f-b23f-a8c2337ba844"
      },
      "execution_count": 22,
      "outputs": [
        {
          "output_type": "stream",
          "name": "stderr",
          "text": [
            "/usr/local/lib/python3.7/dist-packages/pymatgen/core/periodic_table.py:317: UserWarning: No electronegativity for Ne. Setting to NaN. This has no physical meaning, and is mainly done to avoid errors caused by the code expecting a float.\n",
            "  \"avoid errors caused by the code expecting a float.\" % self.symbol\n",
            "/usr/local/lib/python3.7/dist-packages/pymatgen/core/periodic_table.py:317: UserWarning: No electronegativity for He. Setting to NaN. This has no physical meaning, and is mainly done to avoid errors caused by the code expecting a float.\n",
            "  \"avoid errors caused by the code expecting a float.\" % self.symbol\n",
            "/usr/local/lib/python3.7/dist-packages/pymatgen/core/periodic_table.py:317: UserWarning: No electronegativity for Ar. Setting to NaN. This has no physical meaning, and is mainly done to avoid errors caused by the code expecting a float.\n",
            "  \"avoid errors caused by the code expecting a float.\" % self.symbol\n"
          ]
        },
        {
          "output_type": "execute_result",
          "data": {
            "text/plain": [
              "13172"
            ]
          },
          "metadata": {},
          "execution_count": 22
        }
      ]
    },
    {
      "cell_type": "code",
      "source": [
        "splitter = dc.splits.RandomSplitter()\n",
        "train_dataset, valid_dataset, test_dataset = splitter.train_valid_test_split(dataset=dataset, frac_train=0.6, frac_valid=0.2, frac_test=0.2)"
      ],
      "metadata": {
        "id": "p5U9yQ5gsfdc"
      },
      "execution_count": 23,
      "outputs": []
    },
    {
      "cell_type": "code",
      "source": [
        "from sklearn.ensemble import RandomForestRegressor\n",
        "rf = RandomForestRegressor()\n",
        "model = dc.models.SklearnModel(model=rf)"
      ],
      "metadata": {
        "id": "uwKSEvSx1imO"
      },
      "execution_count": 24,
      "outputs": []
    },
    {
      "cell_type": "code",
      "source": [
        "model.fit(train_dataset)"
      ],
      "metadata": {
        "id": "SoalJLJ91p7P"
      },
      "execution_count": 25,
      "outputs": []
    },
    {
      "cell_type": "code",
      "source": [
        "dc.metrics.mean_absolute_error"
      ],
      "metadata": {
        "colab": {
          "base_uri": "https://localhost:8080/"
        },
        "id": "Cpo-Ve9W1uJu",
        "outputId": "11617f6c-fb9b-4cfc-c22f-92b2b06c9136"
      },
      "execution_count": 26,
      "outputs": [
        {
          "output_type": "execute_result",
          "data": {
            "text/plain": [
              "<function sklearn.metrics._regression.mean_absolute_error>"
            ]
          },
          "metadata": {},
          "execution_count": 26
        }
      ]
    },
    {
      "cell_type": "code",
      "source": [
        "metric = dc.metrics.Metric(dc.metrics.mean_absolute_error)#(dc.metrics.mean_squared_error)\n",
        "print(\"Training set score:\", model.evaluate(train_dataset, [metric]))"
      ],
      "metadata": {
        "colab": {
          "base_uri": "https://localhost:8080/"
        },
        "id": "lcgL2VzB2FWx",
        "outputId": "5f5a95dc-812d-45b3-e109-6a766feec920"
      },
      "execution_count": 27,
      "outputs": [
        {
          "output_type": "stream",
          "name": "stdout",
          "text": [
            "Training set score: {'mean_absolute_error': 6.1344423001717185}\n"
          ]
        }
      ]
    },
    {
      "cell_type": "code",
      "source": [
        "out=model.predict(valid_dataset)"
      ],
      "metadata": {
        "id": "z-ZI2Za52LZ0"
      },
      "execution_count": 28,
      "outputs": []
    },
    {
      "cell_type": "code",
      "source": [
        "tru=valid_dataset"
      ],
      "metadata": {
        "id": "1xmOcgqB2SdL"
      },
      "execution_count": 29,
      "outputs": []
    },
    {
      "cell_type": "code",
      "source": [
        "import matplotlib.pyplot as plt"
      ],
      "metadata": {
        "id": "dKxfTKxZ2Vc0"
      },
      "execution_count": 30,
      "outputs": []
    },
    {
      "cell_type": "code",
      "source": [
        "k=1\n",
        "out_p=[]\n",
        "for i in out:\n",
        "  out_p.append(i[k])\n",
        "\n",
        "out_v=[]\n",
        "for i in tru.y:\n",
        "  out_v.append(i[k])\n",
        "\n",
        "plt.scatter(out_p,out_v)\n",
        "plt.plot(out_p,out_p,ls='-',c='r')"
      ],
      "metadata": {
        "colab": {
          "base_uri": "https://localhost:8080/",
          "height": 283
        },
        "id": "722BPCNq2ZVw",
        "outputId": "e0654320-1a30-41f5-e79d-6dd72e8fd06d"
      },
      "execution_count": 83,
      "outputs": [
        {
          "output_type": "execute_result",
          "data": {
            "text/plain": [
              "[<matplotlib.lines.Line2D at 0x7fd508306c50>]"
            ]
          },
          "metadata": {},
          "execution_count": 83
        },
        {
          "output_type": "display_data",
          "data": {
            "text/plain": [
              "<Figure size 432x288 with 1 Axes>"
            ],
            "image/png": "[encoded data removed]"
          },
          "metadata": {
            "needs_background": "light"
          }
        }
      ]
    },
    {
      "cell_type": "code",
      "source": [
        "ind = np.arange(21)\n",
        "width=0.35\n",
        "i=659\n",
        "fig, ax = plt.subplots()\n",
        "b1 = ax.bar(ind, out[i])\n",
        "b2 = ax.bar(ind+width, tru.y[i])\n",
        "\n",
        "#ax.set_xticks(ind+width/2)\n",
        "plt.show()"
      ],
      "metadata": {
        "colab": {
          "base_uri": "https://localhost:8080/",
          "height": 265
        },
        "id": "QTYw64lt2gPx",
        "outputId": "e6d53317-2aa5-48bd-edb1-4261bd036059"
      },
      "execution_count": 89,
      "outputs": [
        {
          "output_type": "display_data",
          "data": {
            "text/plain": [
              "<Figure size 432x288 with 1 Axes>"
            ],
            "image/png": "[encoded data removed]"
          },
          "metadata": {
            "needs_background": "light"
          }
        }
      ]
    },
    {
      "cell_type": "code",
      "source": [
        "import seaborn as sns"
      ],
      "metadata": {
        "id": "hKj0d_213f6E"
      },
      "execution_count": 44,
      "outputs": []
    },
    {
      "cell_type": "code",
      "source": [
        "fig, axs = plt.subplots(ncols=2,figsize=(20,5))\n",
        "sns.heatmap(tru.y[:100],ax=axs[0],vmax=800,vmin=-400)\n",
        "sns.heatmap(out[:100],ax=axs[1],vmax=800,vmin=-400)\n"
      ],
      "metadata": {
        "colab": {
          "base_uri": "https://localhost:8080/",
          "height": 335
        },
        "id": "TVh9xElr4ur5",
        "outputId": "2cb59b78-b599-4111-973d-fa5e4c6cf13c"
      },
      "execution_count": 81,
      "outputs": [
        {
          "output_type": "execute_result",
          "data": {
            "text/plain": [
              "<matplotlib.axes._subplots.AxesSubplot at 0x7fd5085ca510>"
            ]
          },
          "metadata": {},
          "execution_count": 81
        },
        {
          "output_type": "display_data",
          "data": {
            "text/plain": [
              "<Figure size 1440x360 with 4 Axes>"
            ],
            "image/png": "[encoded data removed]"
          },
          "metadata": {
            "needs_background": "light"
          }
        }
      ]
    },
    {
      "cell_type": "code",
      "source": [
        ""
      ],
      "metadata": {
        "id": "iVSGTuNa5QwH"
      },
      "execution_count": null,
      "outputs": []
    }
  ]
}